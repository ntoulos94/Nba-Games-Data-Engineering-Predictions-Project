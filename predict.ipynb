{
 "cells": [
  {
   "cell_type": "code",
   "execution_count": null,
   "id": "fef9a3df",
   "metadata": {},
   "outputs": [],
   "source": [
    "import pandas as pd\n",
    "pd.set_option('display.max_columns', None)"
   ]
  },
  {
   "cell_type": "code",
   "execution_count": null,
   "id": "c8168854",
   "metadata": {},
   "outputs": [],
   "source": [
    "df = pd.read_csv(\"nba_games.csv\", index_col = 0)"
   ]
  },
  {
   "cell_type": "code",
   "execution_count": null,
   "id": "45a00c17",
   "metadata": {
    "scrolled": true
   },
   "outputs": [],
   "source": [
    "df"
   ]
  },
  {
   "cell_type": "code",
   "execution_count": null,
   "id": "96a743f8",
   "metadata": {},
   "outputs": [],
   "source": [
    "df = df.sort_values(\"date\")"
   ]
  },
  {
   "cell_type": "code",
   "execution_count": null,
   "id": "70b14b59",
   "metadata": {},
   "outputs": [],
   "source": [
    "df = df.reset_index(drop=True)"
   ]
  },
  {
   "cell_type": "code",
   "execution_count": null,
   "id": "e4af40ce",
   "metadata": {},
   "outputs": [],
   "source": [
    "del df[\"mp.1\"]\n",
    "del df[\"mp_opp.1\"]\n",
    "del df[\"index_opp\"]"
   ]
  },
  {
   "cell_type": "code",
   "execution_count": null,
   "id": "a7fb1b6e",
   "metadata": {},
   "outputs": [],
   "source": [
    "df"
   ]
  },
  {
   "cell_type": "code",
   "execution_count": null,
   "id": "f6bc561b",
   "metadata": {},
   "outputs": [],
   "source": [
    "def add_target(team):\n",
    "    team[\"target\"] = team[\"won\"].shift(-1)\n",
    "    return team\n",
    "\n",
    "df = df.groupby(\"team\", group_keys = False).apply(add_target)"
   ]
  },
  {
   "cell_type": "code",
   "execution_count": null,
   "id": "326d4f39",
   "metadata": {},
   "outputs": [],
   "source": [
    "df[df[\"team\"] == \"NYK\"]"
   ]
  },
  {
   "cell_type": "code",
   "execution_count": null,
   "id": "eeabefe2",
   "metadata": {},
   "outputs": [],
   "source": [
    "df[\"target\"][pd.isnull(df[\"target\"])] = 2"
   ]
  },
  {
   "cell_type": "code",
   "execution_count": null,
   "id": "6a10ce64",
   "metadata": {},
   "outputs": [],
   "source": [
    "df[\"target\"] = df[\"target\"].astype(int, errors=\"ignore\")\n",
    "df[\"won\"] = df[\"won\"].astype(int, errors=\"ignore\")"
   ]
  },
  {
   "cell_type": "code",
   "execution_count": null,
   "id": "aaefb3ae",
   "metadata": {},
   "outputs": [],
   "source": [
    "df[df[\"team\"] == \"NYK\"]"
   ]
  },
  {
   "cell_type": "code",
   "execution_count": null,
   "id": "ddb1ad94",
   "metadata": {},
   "outputs": [],
   "source": [
    "df[\"target\"].value_counts()"
   ]
  },
  {
   "cell_type": "code",
   "execution_count": null,
   "id": "8504d5f4",
   "metadata": {},
   "outputs": [],
   "source": [
    "nulls = pd.isnull(df)"
   ]
  },
  {
   "cell_type": "code",
   "execution_count": null,
   "id": "ad3eef0d",
   "metadata": {},
   "outputs": [],
   "source": [
    "nulls = nulls.sum()"
   ]
  },
  {
   "cell_type": "code",
   "execution_count": null,
   "id": "aa975123",
   "metadata": {},
   "outputs": [],
   "source": [
    "nulls = nulls[nulls > 0]"
   ]
  },
  {
   "cell_type": "code",
   "execution_count": null,
   "id": "219550b8",
   "metadata": {},
   "outputs": [],
   "source": [
    "valid_columns = df.columns[~df.columns.isin(nulls.index)]"
   ]
  },
  {
   "cell_type": "code",
   "execution_count": null,
   "id": "af8e3af0",
   "metadata": {},
   "outputs": [],
   "source": [
    "valid_columns"
   ]
  },
  {
   "cell_type": "code",
   "execution_count": null,
   "id": "86865989",
   "metadata": {},
   "outputs": [],
   "source": [
    "df = df[valid_columns].copy()"
   ]
  },
  {
   "cell_type": "code",
   "execution_count": null,
   "id": "a07f0988",
   "metadata": {},
   "outputs": [],
   "source": [
    "df"
   ]
  },
  {
   "cell_type": "code",
   "execution_count": null,
   "id": "63cab6f0",
   "metadata": {},
   "outputs": [],
   "source": [
    "%pip install scikit-learn"
   ]
  },
  {
   "cell_type": "code",
   "execution_count": null,
   "id": "800546d0",
   "metadata": {},
   "outputs": [],
   "source": [
    "from sklearn.model_selection import TimeSeriesSplit\n",
    "from sklearn.feature_selection import SequentialFeatureSelector\n",
    "from sklearn.linear_model import RidgeClassifier\n",
    "\n",
    "rr = RidgeClassifier(alpha = 1)\n",
    "split = TimeSeriesSplit(n_splits = 3)\n",
    "\n",
    "sfs = SequentialFeatureSelector(rr, n_features_to_select=30, direction=\"forward\", cv = split)"
   ]
  },
  {
   "cell_type": "code",
   "execution_count": null,
   "id": "eeef2867",
   "metadata": {},
   "outputs": [],
   "source": [
    "removed_columns = [\"season\", \"date\", \"won\", \"target\", \"team\", \"team_opp\"]"
   ]
  },
  {
   "cell_type": "code",
   "execution_count": null,
   "id": "765c9255",
   "metadata": {},
   "outputs": [],
   "source": [
    "selected_columns = df.columns[~df.columns.isin(removed_columns)]"
   ]
  },
  {
   "cell_type": "code",
   "execution_count": null,
   "id": "f29366f9",
   "metadata": {},
   "outputs": [],
   "source": [
    "from sklearn.preprocessing import MinMaxScaler\n",
    "\n",
    "scaler = MinMaxScaler()\n",
    "df[selected_columns] = scaler.fit_transform(df[selected_columns])"
   ]
  },
  {
   "cell_type": "code",
   "execution_count": null,
   "id": "99d53515",
   "metadata": {},
   "outputs": [],
   "source": [
    "df"
   ]
  },
  {
   "cell_type": "code",
   "execution_count": null,
   "id": "5c18e8fb",
   "metadata": {},
   "outputs": [],
   "source": [
    "sfs.fit(df[selected_columns], df[\"target\"])"
   ]
  },
  {
   "cell_type": "code",
   "execution_count": null,
   "id": "6720db07",
   "metadata": {},
   "outputs": [],
   "source": [
    "predictors = list(selected_columns[sfs.get_support()])"
   ]
  },
  {
   "cell_type": "code",
   "execution_count": null,
   "id": "7b3684cf",
   "metadata": {},
   "outputs": [],
   "source": [
    "predictors"
   ]
  },
  {
   "cell_type": "code",
   "execution_count": null,
   "id": "97011700",
   "metadata": {},
   "outputs": [],
   "source": [
    "def backtest(data, model, predictors, start = 2, step = 1):\n",
    "    all_predictions = []\n",
    "    \n",
    "    seasons = sorted(data[\"season\"].unique())\n",
    "    \n",
    "    for i in range(start, len(seasons), step):\n",
    "        season = seasons[i]\n",
    "        \n",
    "        train = data[data[\"season\"]< season]\n",
    "        test = data[data[\"season\"] == season]\n",
    "        \n",
    "        model.fit(train[predictors], train[\"target\"])\n",
    "        \n",
    "        preds = model.predict(test[predictors])\n",
    "        preds = pd.Series(preds, index = test.index)\n",
    "        \n",
    "        combined = pd.concat([test[\"target\"], preds], axis = 1)\n",
    "        combined.columns = [\"actual\", \"prediction\"]\n",
    "        \n",
    "        all_predictions.append(combined)\n",
    "    return pd.concat(all_predictions)"
   ]
  },
  {
   "cell_type": "code",
   "execution_count": null,
   "id": "f9e28836",
   "metadata": {},
   "outputs": [],
   "source": [
    "predictions = backtest(df, rr, predictors)"
   ]
  },
  {
   "cell_type": "code",
   "execution_count": null,
   "id": "96ceadd5",
   "metadata": {},
   "outputs": [],
   "source": [
    "predictions"
   ]
  },
  {
   "cell_type": "code",
   "execution_count": null,
   "id": "42ff1cc6",
   "metadata": {},
   "outputs": [],
   "source": [
    "from sklearn.metrics import accuracy_score\n",
    "\n",
    "predictions = predictions[predictions[\"actual\"] != 2]\n",
    "accuracy_score(predictions[\"actual\"], predictions[\"prediction\"])"
   ]
  },
  {
   "cell_type": "code",
   "execution_count": null,
   "id": "0911ad0f",
   "metadata": {},
   "outputs": [],
   "source": [
    "df.groupby(\"home\").apply(lambda x: x[x[\"won\"] == 1].shape[0] / x.shape[0])"
   ]
  },
  {
   "cell_type": "code",
   "execution_count": null,
   "id": "2d3296a5",
   "metadata": {},
   "outputs": [],
   "source": [
    "df"
   ]
  },
  {
   "cell_type": "code",
   "execution_count": null,
   "id": "214331a8",
   "metadata": {},
   "outputs": [],
   "source": [
    "df_rolling = df[list(selected_columns) + [\"won\", \"team\", \"season\"]]\n",
    "\n",
    "def find_team_averages(team):\n",
    "    rolling = team.rolling(10).mean(numeric_only=True)\n",
    "    return rolling\n",
    "\n",
    "df_rolling = df_rolling.groupby([\"team\", \"season\"], group_keys=False).apply(find_team_averages)"
   ]
  },
  {
   "cell_type": "code",
   "execution_count": null,
   "id": "27269026",
   "metadata": {},
   "outputs": [],
   "source": [
    "df_rolling"
   ]
  },
  {
   "cell_type": "code",
   "execution_count": null,
   "id": "3e4b871d",
   "metadata": {},
   "outputs": [],
   "source": [
    "rolling_cols = [f\"{col}_10\" for col in df_rolling.columns]\n",
    "df_rolling.columns = rolling_cols\n",
    "df = pd.concat([df, df_rolling], axis=1)"
   ]
  },
  {
   "cell_type": "code",
   "execution_count": null,
   "id": "b2c2ff0c",
   "metadata": {},
   "outputs": [],
   "source": [
    "df = df.dropna()"
   ]
  },
  {
   "cell_type": "code",
   "execution_count": null,
   "id": "4afb6087",
   "metadata": {},
   "outputs": [],
   "source": [
    "df"
   ]
  },
  {
   "cell_type": "code",
   "execution_count": null,
   "id": "0643b103",
   "metadata": {},
   "outputs": [],
   "source": [
    "def shift_col(team, col_name):\n",
    "    next_col = team[col_name].shift(-1)\n",
    "    return next_col\n",
    "\n",
    "def add_col(df, col_name):\n",
    "    return df.groupby(\"team\", group_keys=False).apply(lambda x: shift_col(x, col_name))\n",
    "\n",
    "df[\"home_next\"] = add_col(df, \"home\")\n",
    "df[\"team_opp_next\"] = add_col(df, \"team_opp\")\n",
    "df[\"date_next\"] = add_col(df, \"date\")"
   ]
  },
  {
   "cell_type": "code",
   "execution_count": null,
   "id": "ee7c2b73",
   "metadata": {},
   "outputs": [],
   "source": [
    "df"
   ]
  },
  {
   "cell_type": "code",
   "execution_count": null,
   "id": "69a50bb7",
   "metadata": {},
   "outputs": [],
   "source": [
    "full = df.merge(df[rolling_cols + [\"team_opp_next\", \"date_next\", \"team\"]], left_on=[\"team\", \"date_next\"], right_on=[\"team_opp_next\", \"date_next\"])"
   ]
  },
  {
   "cell_type": "code",
   "execution_count": null,
   "id": "444a8d61",
   "metadata": {},
   "outputs": [],
   "source": [
    "full"
   ]
  },
  {
   "cell_type": "code",
   "execution_count": null,
   "id": "0ee604ac",
   "metadata": {},
   "outputs": [],
   "source": [
    "full[[\"team_x\", \"team_opp_next_x\", \"team_y\", \"team_opp_next_y\", \"date_next\"]]"
   ]
  },
  {
   "cell_type": "code",
   "execution_count": null,
   "id": "1bb01bdf",
   "metadata": {},
   "outputs": [],
   "source": [
    "removed_columns = list(full.columns[full.dtypes == \"object\"]) + removed_columns"
   ]
  },
  {
   "cell_type": "code",
   "execution_count": null,
   "id": "902afbae",
   "metadata": {},
   "outputs": [],
   "source": [
    "removed_columns"
   ]
  },
  {
   "cell_type": "code",
   "execution_count": null,
   "id": "3c854804",
   "metadata": {},
   "outputs": [],
   "source": [
    "selected_columns = full.columns[~full.columns.isin(removed_columns)]\n",
    "sfs.fit(full[selected_columns], full[\"target\"])"
   ]
  },
  {
   "cell_type": "code",
   "execution_count": null,
   "id": "2b62fcfe",
   "metadata": {},
   "outputs": [],
   "source": [
    "predictors = list(selected_columns[sfs.get_support()])"
   ]
  },
  {
   "cell_type": "code",
   "execution_count": null,
   "id": "500ec765",
   "metadata": {},
   "outputs": [],
   "source": [
    "predictors"
   ]
  },
  {
   "cell_type": "code",
   "execution_count": null,
   "id": "103c52f3",
   "metadata": {},
   "outputs": [],
   "source": [
    "predictions = backtest(full, rr, predictors)"
   ]
  },
  {
   "cell_type": "code",
   "execution_count": null,
   "id": "68bf3d68",
   "metadata": {},
   "outputs": [],
   "source": [
    "accuracy_score(predictions[\"actual\"], predictions[\"prediction\"])"
   ]
  }
 ],
 "metadata": {
  "kernelspec": {
   "display_name": "Python 3 (ipykernel)",
   "language": "python",
   "name": "python3"
  },
  "language_info": {
   "codemirror_mode": {
    "name": "ipython",
    "version": 3
   },
   "file_extension": ".py",
   "mimetype": "text/x-python",
   "name": "python",
   "nbconvert_exporter": "python",
   "pygments_lexer": "ipython3",
   "version": "3.10.6"
  }
 },
 "nbformat": 4,
 "nbformat_minor": 5
}
